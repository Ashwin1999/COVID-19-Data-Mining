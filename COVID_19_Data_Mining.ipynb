{
  "nbformat": 4,
  "nbformat_minor": 0,
  "metadata": {
    "colab": {
      "name": "COVID-19 Data Mining.ipynb",
      "provenance": [],
      "include_colab_link": true
    },
    "kernelspec": {
      "name": "python3",
      "display_name": "Python 3"
    }
  },
  "cells": [
    {
      "cell_type": "markdown",
      "metadata": {
        "id": "view-in-github",
        "colab_type": "text"
      },
      "source": [
        "<a href=\"https://colab.research.google.com/github/Ashwin1999/COVID-19-Data-Mining/blob/master/COVID_19_Data_Mining.ipynb\" target=\"_parent\"><img src=\"https://colab.research.google.com/assets/colab-badge.svg\" alt=\"Open In Colab\"/></a>"
      ]
    },
    {
      "cell_type": "code",
      "metadata": {
        "id": "G1j5SHrIE2MX",
        "colab_type": "code",
        "colab": {
          "base_uri": "https://localhost:8080/",
          "height": 70
        },
        "outputId": "6badefa1-b44a-4e55-e4f1-673e673524fe"
      },
      "source": [
        "import numpy as np\n",
        "import pandas as pd\n",
        "import matplotlib.pyplot as plt\n",
        "import seaborn as sns\n",
        "\n",
        "sns.set_style(\"dark\")"
      ],
      "execution_count": 1,
      "outputs": [
        {
          "output_type": "stream",
          "text": [
            "/usr/local/lib/python3.6/dist-packages/statsmodels/tools/_testing.py:19: FutureWarning: pandas.util.testing is deprecated. Use the functions in the public API at pandas.testing instead.\n",
            "  import pandas.util.testing as tm\n"
          ],
          "name": "stderr"
        }
      ]
    },
    {
      "cell_type": "markdown",
      "metadata": {
        "id": "Fssb9vYdFjCW",
        "colab_type": "text"
      },
      "source": [
        "import dataset from this link: https://github.com/Ashwin1999/COVID-19-Data-Mining"
      ]
    },
    {
      "cell_type": "code",
      "metadata": {
        "id": "ZB6p0htpFcea",
        "colab_type": "code",
        "colab": {
          "base_uri": "https://localhost:8080/",
          "height": 195
        },
        "outputId": "89593157-4114-41b3-b279-ccd03733a258"
      },
      "source": [
        "testing_india=pd.read_csv('https://raw.githubusercontent.com/Ashwin1999/COVID-19-Data-Mining/master/COVID-Data(India)/StatewiseTestingDetails.csv')\n",
        "testing_india.head()"
      ],
      "execution_count": 2,
      "outputs": [
        {
          "output_type": "execute_result",
          "data": {
            "text/html": [
              "<div>\n",
              "<style scoped>\n",
              "    .dataframe tbody tr th:only-of-type {\n",
              "        vertical-align: middle;\n",
              "    }\n",
              "\n",
              "    .dataframe tbody tr th {\n",
              "        vertical-align: top;\n",
              "    }\n",
              "\n",
              "    .dataframe thead th {\n",
              "        text-align: right;\n",
              "    }\n",
              "</style>\n",
              "<table border=\"1\" class=\"dataframe\">\n",
              "  <thead>\n",
              "    <tr style=\"text-align: right;\">\n",
              "      <th></th>\n",
              "      <th>Date</th>\n",
              "      <th>State</th>\n",
              "      <th>TotalSamples</th>\n",
              "      <th>Negative</th>\n",
              "      <th>Positive</th>\n",
              "    </tr>\n",
              "  </thead>\n",
              "  <tbody>\n",
              "    <tr>\n",
              "      <th>0</th>\n",
              "      <td>2020-04-17</td>\n",
              "      <td>Andaman and Nicobar Islands</td>\n",
              "      <td>1403.0</td>\n",
              "      <td>1210</td>\n",
              "      <td>12.0</td>\n",
              "    </tr>\n",
              "    <tr>\n",
              "      <th>1</th>\n",
              "      <td>2020-04-24</td>\n",
              "      <td>Andaman and Nicobar Islands</td>\n",
              "      <td>2679.0</td>\n",
              "      <td>NaN</td>\n",
              "      <td>27.0</td>\n",
              "    </tr>\n",
              "    <tr>\n",
              "      <th>2</th>\n",
              "      <td>2020-04-27</td>\n",
              "      <td>Andaman and Nicobar Islands</td>\n",
              "      <td>2848.0</td>\n",
              "      <td>NaN</td>\n",
              "      <td>33.0</td>\n",
              "    </tr>\n",
              "    <tr>\n",
              "      <th>3</th>\n",
              "      <td>2020-05-01</td>\n",
              "      <td>Andaman and Nicobar Islands</td>\n",
              "      <td>3754.0</td>\n",
              "      <td>NaN</td>\n",
              "      <td>33.0</td>\n",
              "    </tr>\n",
              "    <tr>\n",
              "      <th>4</th>\n",
              "      <td>2020-05-16</td>\n",
              "      <td>Andaman and Nicobar Islands</td>\n",
              "      <td>6677.0</td>\n",
              "      <td>NaN</td>\n",
              "      <td>33.0</td>\n",
              "    </tr>\n",
              "  </tbody>\n",
              "</table>\n",
              "</div>"
            ],
            "text/plain": [
              "         Date                        State  TotalSamples Negative  Positive\n",
              "0  2020-04-17  Andaman and Nicobar Islands        1403.0     1210      12.0\n",
              "1  2020-04-24  Andaman and Nicobar Islands        2679.0      NaN      27.0\n",
              "2  2020-04-27  Andaman and Nicobar Islands        2848.0      NaN      33.0\n",
              "3  2020-05-01  Andaman and Nicobar Islands        3754.0      NaN      33.0\n",
              "4  2020-05-16  Andaman and Nicobar Islands        6677.0      NaN      33.0"
            ]
          },
          "metadata": {
            "tags": []
          },
          "execution_count": 2
        }
      ]
    },
    {
      "cell_type": "markdown",
      "metadata": {
        "id": "TyO6T_5DFc1C",
        "colab_type": "text"
      },
      "source": [
        "# Reshaping our dataframe"
      ]
    },
    {
      "cell_type": "code",
      "metadata": {
        "id": "blOWS2b7i75l",
        "colab_type": "code",
        "colab": {}
      },
      "source": [
        "files = [\n",
        "         'https://raw.githubusercontent.com/Ashwin1999/COVID-19-Data-Mining/master/COVID-Time%20Series%20Data/time_series_covid_19_confirmed.csv',\n",
        "         'https://raw.githubusercontent.com/Ashwin1999/COVID-19-Data-Mining/master/COVID-Time%20Series%20Data/time_series_covid_19_confirmed_US.csv',\n",
        "         'https://raw.githubusercontent.com/Ashwin1999/COVID-19-Data-Mining/master/COVID-Time%20Series%20Data/time_series_covid_19_deaths.csv',\n",
        "         'https://raw.githubusercontent.com/Ashwin1999/COVID-19-Data-Mining/master/COVID-Time%20Series%20Data/time_series_covid_19_deaths_US.csv',\n",
        "         'https://raw.githubusercontent.com/Ashwin1999/COVID-19-Data-Mining/master/COVID-Time%20Series%20Data/time_series_covid_19_recovered.csv,'\n",
        "]"
      ],
      "execution_count": 3,
      "outputs": []
    },
    {
      "cell_type": "code",
      "metadata": {
        "id": "lj0nBVBHFlH3",
        "colab_type": "code",
        "colab": {
          "base_uri": "https://localhost:8080/",
          "height": 195
        },
        "outputId": "05c489d3-7eb9-4bbc-9ef1-a8b03ed758cc"
      },
      "source": [
        "df = pd.read_csv(files[0])\n",
        "confirmed = df.melt(['Province/State', 'Country/Region'], df.columns[4:], var_name='Dates', value_name='Count')\n",
        "confirmed.Dates = pd.to_datetime(confirmed.Dates)\n",
        "confirmed.head()"
      ],
      "execution_count": 4,
      "outputs": [
        {
          "output_type": "execute_result",
          "data": {
            "text/html": [
              "<div>\n",
              "<style scoped>\n",
              "    .dataframe tbody tr th:only-of-type {\n",
              "        vertical-align: middle;\n",
              "    }\n",
              "\n",
              "    .dataframe tbody tr th {\n",
              "        vertical-align: top;\n",
              "    }\n",
              "\n",
              "    .dataframe thead th {\n",
              "        text-align: right;\n",
              "    }\n",
              "</style>\n",
              "<table border=\"1\" class=\"dataframe\">\n",
              "  <thead>\n",
              "    <tr style=\"text-align: right;\">\n",
              "      <th></th>\n",
              "      <th>Province/State</th>\n",
              "      <th>Country/Region</th>\n",
              "      <th>Dates</th>\n",
              "      <th>Count</th>\n",
              "    </tr>\n",
              "  </thead>\n",
              "  <tbody>\n",
              "    <tr>\n",
              "      <th>0</th>\n",
              "      <td>NaN</td>\n",
              "      <td>Afghanistan</td>\n",
              "      <td>2020-01-22</td>\n",
              "      <td>0</td>\n",
              "    </tr>\n",
              "    <tr>\n",
              "      <th>1</th>\n",
              "      <td>NaN</td>\n",
              "      <td>Albania</td>\n",
              "      <td>2020-01-22</td>\n",
              "      <td>0</td>\n",
              "    </tr>\n",
              "    <tr>\n",
              "      <th>2</th>\n",
              "      <td>NaN</td>\n",
              "      <td>Algeria</td>\n",
              "      <td>2020-01-22</td>\n",
              "      <td>0</td>\n",
              "    </tr>\n",
              "    <tr>\n",
              "      <th>3</th>\n",
              "      <td>NaN</td>\n",
              "      <td>Andorra</td>\n",
              "      <td>2020-01-22</td>\n",
              "      <td>0</td>\n",
              "    </tr>\n",
              "    <tr>\n",
              "      <th>4</th>\n",
              "      <td>NaN</td>\n",
              "      <td>Angola</td>\n",
              "      <td>2020-01-22</td>\n",
              "      <td>0</td>\n",
              "    </tr>\n",
              "  </tbody>\n",
              "</table>\n",
              "</div>"
            ],
            "text/plain": [
              "  Province/State Country/Region      Dates  Count\n",
              "0            NaN    Afghanistan 2020-01-22      0\n",
              "1            NaN        Albania 2020-01-22      0\n",
              "2            NaN        Algeria 2020-01-22      0\n",
              "3            NaN        Andorra 2020-01-22      0\n",
              "4            NaN         Angola 2020-01-22      0"
            ]
          },
          "metadata": {
            "tags": []
          },
          "execution_count": 4
        }
      ]
    },
    {
      "cell_type": "code",
      "metadata": {
        "id": "_4JCkM21FoM0",
        "colab_type": "code",
        "colab": {
          "base_uri": "https://localhost:8080/",
          "height": 195
        },
        "outputId": "08be6120-de1b-4813-d0cd-364770f47de0"
      },
      "source": [
        "df = pd.read_csv(files[1])\n",
        "confirmed_US = df.melt(['Province_State', 'Country_Region'], df.columns[11:], var_name='Dates', value_name='Count')\n",
        "confirmed_US.rename(columns={\"Province_State\": \"Province/State\", \"Country_Region\": \"Country/Region\"}, inplace=True)\n",
        "confirmed_US.Dates = pd.to_datetime(confirmed_US.Dates)\n",
        "confirmed_US.head()"
      ],
      "execution_count": 5,
      "outputs": [
        {
          "output_type": "execute_result",
          "data": {
            "text/html": [
              "<div>\n",
              "<style scoped>\n",
              "    .dataframe tbody tr th:only-of-type {\n",
              "        vertical-align: middle;\n",
              "    }\n",
              "\n",
              "    .dataframe tbody tr th {\n",
              "        vertical-align: top;\n",
              "    }\n",
              "\n",
              "    .dataframe thead th {\n",
              "        text-align: right;\n",
              "    }\n",
              "</style>\n",
              "<table border=\"1\" class=\"dataframe\">\n",
              "  <thead>\n",
              "    <tr style=\"text-align: right;\">\n",
              "      <th></th>\n",
              "      <th>Province/State</th>\n",
              "      <th>Country/Region</th>\n",
              "      <th>Dates</th>\n",
              "      <th>Count</th>\n",
              "    </tr>\n",
              "  </thead>\n",
              "  <tbody>\n",
              "    <tr>\n",
              "      <th>0</th>\n",
              "      <td>Alabama</td>\n",
              "      <td>US</td>\n",
              "      <td>2020-01-22</td>\n",
              "      <td>0</td>\n",
              "    </tr>\n",
              "    <tr>\n",
              "      <th>1</th>\n",
              "      <td>Alabama</td>\n",
              "      <td>US</td>\n",
              "      <td>2020-01-22</td>\n",
              "      <td>0</td>\n",
              "    </tr>\n",
              "    <tr>\n",
              "      <th>2</th>\n",
              "      <td>Alabama</td>\n",
              "      <td>US</td>\n",
              "      <td>2020-01-22</td>\n",
              "      <td>0</td>\n",
              "    </tr>\n",
              "    <tr>\n",
              "      <th>3</th>\n",
              "      <td>Alabama</td>\n",
              "      <td>US</td>\n",
              "      <td>2020-01-22</td>\n",
              "      <td>0</td>\n",
              "    </tr>\n",
              "    <tr>\n",
              "      <th>4</th>\n",
              "      <td>Alabama</td>\n",
              "      <td>US</td>\n",
              "      <td>2020-01-22</td>\n",
              "      <td>0</td>\n",
              "    </tr>\n",
              "  </tbody>\n",
              "</table>\n",
              "</div>"
            ],
            "text/plain": [
              "  Province/State Country/Region      Dates  Count\n",
              "0        Alabama             US 2020-01-22      0\n",
              "1        Alabama             US 2020-01-22      0\n",
              "2        Alabama             US 2020-01-22      0\n",
              "3        Alabama             US 2020-01-22      0\n",
              "4        Alabama             US 2020-01-22      0"
            ]
          },
          "metadata": {
            "tags": []
          },
          "execution_count": 5
        }
      ]
    },
    {
      "cell_type": "code",
      "metadata": {
        "id": "2ZgymMypFqEX",
        "colab_type": "code",
        "colab": {
          "base_uri": "https://localhost:8080/",
          "height": 195
        },
        "outputId": "c116b739-448e-4d68-cf15-570f4b8e5c85"
      },
      "source": [
        "df = pd.read_csv(files[2])\n",
        "deaths = df.melt(['Province/State', 'Country/Region'], df.columns[4:], var_name='Dates', value_name='Count')\n",
        "deaths.Dates = pd.to_datetime(deaths.Dates)\n",
        "deaths.head()"
      ],
      "execution_count": 6,
      "outputs": [
        {
          "output_type": "execute_result",
          "data": {
            "text/html": [
              "<div>\n",
              "<style scoped>\n",
              "    .dataframe tbody tr th:only-of-type {\n",
              "        vertical-align: middle;\n",
              "    }\n",
              "\n",
              "    .dataframe tbody tr th {\n",
              "        vertical-align: top;\n",
              "    }\n",
              "\n",
              "    .dataframe thead th {\n",
              "        text-align: right;\n",
              "    }\n",
              "</style>\n",
              "<table border=\"1\" class=\"dataframe\">\n",
              "  <thead>\n",
              "    <tr style=\"text-align: right;\">\n",
              "      <th></th>\n",
              "      <th>Province/State</th>\n",
              "      <th>Country/Region</th>\n",
              "      <th>Dates</th>\n",
              "      <th>Count</th>\n",
              "    </tr>\n",
              "  </thead>\n",
              "  <tbody>\n",
              "    <tr>\n",
              "      <th>0</th>\n",
              "      <td>NaN</td>\n",
              "      <td>Afghanistan</td>\n",
              "      <td>2020-01-22</td>\n",
              "      <td>0</td>\n",
              "    </tr>\n",
              "    <tr>\n",
              "      <th>1</th>\n",
              "      <td>NaN</td>\n",
              "      <td>Albania</td>\n",
              "      <td>2020-01-22</td>\n",
              "      <td>0</td>\n",
              "    </tr>\n",
              "    <tr>\n",
              "      <th>2</th>\n",
              "      <td>NaN</td>\n",
              "      <td>Algeria</td>\n",
              "      <td>2020-01-22</td>\n",
              "      <td>0</td>\n",
              "    </tr>\n",
              "    <tr>\n",
              "      <th>3</th>\n",
              "      <td>NaN</td>\n",
              "      <td>Andorra</td>\n",
              "      <td>2020-01-22</td>\n",
              "      <td>0</td>\n",
              "    </tr>\n",
              "    <tr>\n",
              "      <th>4</th>\n",
              "      <td>NaN</td>\n",
              "      <td>Angola</td>\n",
              "      <td>2020-01-22</td>\n",
              "      <td>0</td>\n",
              "    </tr>\n",
              "  </tbody>\n",
              "</table>\n",
              "</div>"
            ],
            "text/plain": [
              "  Province/State Country/Region      Dates  Count\n",
              "0            NaN    Afghanistan 2020-01-22      0\n",
              "1            NaN        Albania 2020-01-22      0\n",
              "2            NaN        Algeria 2020-01-22      0\n",
              "3            NaN        Andorra 2020-01-22      0\n",
              "4            NaN         Angola 2020-01-22      0"
            ]
          },
          "metadata": {
            "tags": []
          },
          "execution_count": 6
        }
      ]
    },
    {
      "cell_type": "code",
      "metadata": {
        "id": "j_wGPlxsFsJ6",
        "colab_type": "code",
        "colab": {
          "base_uri": "https://localhost:8080/",
          "height": 195
        },
        "outputId": "6bde48cb-5c86-4790-d9f5-8f762d54f21c"
      },
      "source": [
        "df = pd.read_csv(files[3])\n",
        "deaths_US = df.melt(['Province_State', 'Country_Region'], df.columns[12:], var_name='Dates', value_name='Count')\n",
        "deaths_US.rename(columns={\"Province_State\": \"Province/State\", \"Country_Region\": \"Country/Region\"}, inplace=True)\n",
        "deaths_US.Dates = pd.to_datetime(deaths_US.Dates)\n",
        "deaths_US.head()"
      ],
      "execution_count": 7,
      "outputs": [
        {
          "output_type": "execute_result",
          "data": {
            "text/html": [
              "<div>\n",
              "<style scoped>\n",
              "    .dataframe tbody tr th:only-of-type {\n",
              "        vertical-align: middle;\n",
              "    }\n",
              "\n",
              "    .dataframe tbody tr th {\n",
              "        vertical-align: top;\n",
              "    }\n",
              "\n",
              "    .dataframe thead th {\n",
              "        text-align: right;\n",
              "    }\n",
              "</style>\n",
              "<table border=\"1\" class=\"dataframe\">\n",
              "  <thead>\n",
              "    <tr style=\"text-align: right;\">\n",
              "      <th></th>\n",
              "      <th>Province/State</th>\n",
              "      <th>Country/Region</th>\n",
              "      <th>Dates</th>\n",
              "      <th>Count</th>\n",
              "    </tr>\n",
              "  </thead>\n",
              "  <tbody>\n",
              "    <tr>\n",
              "      <th>0</th>\n",
              "      <td>Alabama</td>\n",
              "      <td>US</td>\n",
              "      <td>2020-01-22</td>\n",
              "      <td>0</td>\n",
              "    </tr>\n",
              "    <tr>\n",
              "      <th>1</th>\n",
              "      <td>Alabama</td>\n",
              "      <td>US</td>\n",
              "      <td>2020-01-22</td>\n",
              "      <td>0</td>\n",
              "    </tr>\n",
              "    <tr>\n",
              "      <th>2</th>\n",
              "      <td>Alabama</td>\n",
              "      <td>US</td>\n",
              "      <td>2020-01-22</td>\n",
              "      <td>0</td>\n",
              "    </tr>\n",
              "    <tr>\n",
              "      <th>3</th>\n",
              "      <td>Alabama</td>\n",
              "      <td>US</td>\n",
              "      <td>2020-01-22</td>\n",
              "      <td>0</td>\n",
              "    </tr>\n",
              "    <tr>\n",
              "      <th>4</th>\n",
              "      <td>Alabama</td>\n",
              "      <td>US</td>\n",
              "      <td>2020-01-22</td>\n",
              "      <td>0</td>\n",
              "    </tr>\n",
              "  </tbody>\n",
              "</table>\n",
              "</div>"
            ],
            "text/plain": [
              "  Province/State Country/Region      Dates  Count\n",
              "0        Alabama             US 2020-01-22      0\n",
              "1        Alabama             US 2020-01-22      0\n",
              "2        Alabama             US 2020-01-22      0\n",
              "3        Alabama             US 2020-01-22      0\n",
              "4        Alabama             US 2020-01-22      0"
            ]
          },
          "metadata": {
            "tags": []
          },
          "execution_count": 7
        }
      ]
    },
    {
      "cell_type": "code",
      "metadata": {
        "id": "1rHBkPchFuKe",
        "colab_type": "code",
        "colab": {
          "base_uri": "https://localhost:8080/",
          "height": 195
        },
        "outputId": "fab2b65d-87ea-4a91-ba78-47102c8ac9bc"
      },
      "source": [
        "df = pd.read_csv('https://raw.githubusercontent.com/Ashwin1999/COVID-19-Data-Mining/master/COVID-Time%20Series%20Data/time_series_covid_19_recovered.csv')\n",
        "recovered = df.melt(['Province/State', 'Country/Region'], df.columns[4:], var_name='Dates', value_name='Count')\n",
        "recovered.Dates = pd.to_datetime(recovered.Dates)\n",
        "recovered.head()"
      ],
      "execution_count": 8,
      "outputs": [
        {
          "output_type": "execute_result",
          "data": {
            "text/html": [
              "<div>\n",
              "<style scoped>\n",
              "    .dataframe tbody tr th:only-of-type {\n",
              "        vertical-align: middle;\n",
              "    }\n",
              "\n",
              "    .dataframe tbody tr th {\n",
              "        vertical-align: top;\n",
              "    }\n",
              "\n",
              "    .dataframe thead th {\n",
              "        text-align: right;\n",
              "    }\n",
              "</style>\n",
              "<table border=\"1\" class=\"dataframe\">\n",
              "  <thead>\n",
              "    <tr style=\"text-align: right;\">\n",
              "      <th></th>\n",
              "      <th>Province/State</th>\n",
              "      <th>Country/Region</th>\n",
              "      <th>Dates</th>\n",
              "      <th>Count</th>\n",
              "    </tr>\n",
              "  </thead>\n",
              "  <tbody>\n",
              "    <tr>\n",
              "      <th>0</th>\n",
              "      <td>NaN</td>\n",
              "      <td>Afghanistan</td>\n",
              "      <td>2020-01-22</td>\n",
              "      <td>0</td>\n",
              "    </tr>\n",
              "    <tr>\n",
              "      <th>1</th>\n",
              "      <td>NaN</td>\n",
              "      <td>Albania</td>\n",
              "      <td>2020-01-22</td>\n",
              "      <td>0</td>\n",
              "    </tr>\n",
              "    <tr>\n",
              "      <th>2</th>\n",
              "      <td>NaN</td>\n",
              "      <td>Algeria</td>\n",
              "      <td>2020-01-22</td>\n",
              "      <td>0</td>\n",
              "    </tr>\n",
              "    <tr>\n",
              "      <th>3</th>\n",
              "      <td>NaN</td>\n",
              "      <td>Andorra</td>\n",
              "      <td>2020-01-22</td>\n",
              "      <td>0</td>\n",
              "    </tr>\n",
              "    <tr>\n",
              "      <th>4</th>\n",
              "      <td>NaN</td>\n",
              "      <td>Angola</td>\n",
              "      <td>2020-01-22</td>\n",
              "      <td>0</td>\n",
              "    </tr>\n",
              "  </tbody>\n",
              "</table>\n",
              "</div>"
            ],
            "text/plain": [
              "  Province/State Country/Region      Dates  Count\n",
              "0            NaN    Afghanistan 2020-01-22      0\n",
              "1            NaN        Albania 2020-01-22      0\n",
              "2            NaN        Algeria 2020-01-22      0\n",
              "3            NaN        Andorra 2020-01-22      0\n",
              "4            NaN         Angola 2020-01-22      0"
            ]
          },
          "metadata": {
            "tags": []
          },
          "execution_count": 8
        }
      ]
    },
    {
      "cell_type": "markdown",
      "metadata": {
        "id": "XaNvIXL1oq-9",
        "colab_type": "text"
      },
      "source": [
        "# Growth rate of COVID-19"
      ]
    },
    {
      "cell_type": "code",
      "metadata": {
        "id": "Hp1pmVa3Fvry",
        "colab_type": "code",
        "colab": {
          "base_uri": "https://localhost:8080/",
          "height": 195
        },
        "outputId": "2fb11835-7ddd-40f5-e1e4-9a5e4af83c25"
      },
      "source": [
        "df1 = confirmed.groupby('Dates').sum().reset_index()\n",
        "df2 = deaths.groupby('Dates').sum().reset_index()\n",
        "df3 = recovered.groupby('Dates').sum().reset_index()\n",
        "\n",
        "cdr = pd.DataFrame({\n",
        "    'date': df1.Dates,\n",
        "    'confirmed': df1.Count,\n",
        "    'deaths': df2.Count,\n",
        "    'recovered': df3.Count,\n",
        "})\n",
        "\n",
        "cdr.head()"
      ],
      "execution_count": 9,
      "outputs": [
        {
          "output_type": "execute_result",
          "data": {
            "text/html": [
              "<div>\n",
              "<style scoped>\n",
              "    .dataframe tbody tr th:only-of-type {\n",
              "        vertical-align: middle;\n",
              "    }\n",
              "\n",
              "    .dataframe tbody tr th {\n",
              "        vertical-align: top;\n",
              "    }\n",
              "\n",
              "    .dataframe thead th {\n",
              "        text-align: right;\n",
              "    }\n",
              "</style>\n",
              "<table border=\"1\" class=\"dataframe\">\n",
              "  <thead>\n",
              "    <tr style=\"text-align: right;\">\n",
              "      <th></th>\n",
              "      <th>date</th>\n",
              "      <th>confirmed</th>\n",
              "      <th>deaths</th>\n",
              "      <th>recovered</th>\n",
              "    </tr>\n",
              "  </thead>\n",
              "  <tbody>\n",
              "    <tr>\n",
              "      <th>0</th>\n",
              "      <td>2020-01-22</td>\n",
              "      <td>555</td>\n",
              "      <td>17</td>\n",
              "      <td>28</td>\n",
              "    </tr>\n",
              "    <tr>\n",
              "      <th>1</th>\n",
              "      <td>2020-01-23</td>\n",
              "      <td>654</td>\n",
              "      <td>18</td>\n",
              "      <td>30</td>\n",
              "    </tr>\n",
              "    <tr>\n",
              "      <th>2</th>\n",
              "      <td>2020-01-24</td>\n",
              "      <td>941</td>\n",
              "      <td>26</td>\n",
              "      <td>36</td>\n",
              "    </tr>\n",
              "    <tr>\n",
              "      <th>3</th>\n",
              "      <td>2020-01-25</td>\n",
              "      <td>1434</td>\n",
              "      <td>42</td>\n",
              "      <td>39</td>\n",
              "    </tr>\n",
              "    <tr>\n",
              "      <th>4</th>\n",
              "      <td>2020-01-26</td>\n",
              "      <td>2118</td>\n",
              "      <td>56</td>\n",
              "      <td>52</td>\n",
              "    </tr>\n",
              "  </tbody>\n",
              "</table>\n",
              "</div>"
            ],
            "text/plain": [
              "        date  confirmed  deaths  recovered\n",
              "0 2020-01-22        555      17         28\n",
              "1 2020-01-23        654      18         30\n",
              "2 2020-01-24        941      26         36\n",
              "3 2020-01-25       1434      42         39\n",
              "4 2020-01-26       2118      56         52"
            ]
          },
          "metadata": {
            "tags": []
          },
          "execution_count": 9
        }
      ]
    },
    {
      "cell_type": "code",
      "metadata": {
        "id": "UFfeyXXbULCX",
        "colab_type": "code",
        "colab": {
          "base_uri": "https://localhost:8080/",
          "height": 195
        },
        "outputId": "2d413a08-ed2b-492f-b38f-fef6dcacb5d9"
      },
      "source": [
        "cdr = cdr.melt('date', cdr.columns[1:], var_name='condition', value_name='count')\n",
        "cdr.head()"
      ],
      "execution_count": 10,
      "outputs": [
        {
          "output_type": "execute_result",
          "data": {
            "text/html": [
              "<div>\n",
              "<style scoped>\n",
              "    .dataframe tbody tr th:only-of-type {\n",
              "        vertical-align: middle;\n",
              "    }\n",
              "\n",
              "    .dataframe tbody tr th {\n",
              "        vertical-align: top;\n",
              "    }\n",
              "\n",
              "    .dataframe thead th {\n",
              "        text-align: right;\n",
              "    }\n",
              "</style>\n",
              "<table border=\"1\" class=\"dataframe\">\n",
              "  <thead>\n",
              "    <tr style=\"text-align: right;\">\n",
              "      <th></th>\n",
              "      <th>date</th>\n",
              "      <th>condition</th>\n",
              "      <th>count</th>\n",
              "    </tr>\n",
              "  </thead>\n",
              "  <tbody>\n",
              "    <tr>\n",
              "      <th>0</th>\n",
              "      <td>2020-01-22</td>\n",
              "      <td>confirmed</td>\n",
              "      <td>555</td>\n",
              "    </tr>\n",
              "    <tr>\n",
              "      <th>1</th>\n",
              "      <td>2020-01-23</td>\n",
              "      <td>confirmed</td>\n",
              "      <td>654</td>\n",
              "    </tr>\n",
              "    <tr>\n",
              "      <th>2</th>\n",
              "      <td>2020-01-24</td>\n",
              "      <td>confirmed</td>\n",
              "      <td>941</td>\n",
              "    </tr>\n",
              "    <tr>\n",
              "      <th>3</th>\n",
              "      <td>2020-01-25</td>\n",
              "      <td>confirmed</td>\n",
              "      <td>1434</td>\n",
              "    </tr>\n",
              "    <tr>\n",
              "      <th>4</th>\n",
              "      <td>2020-01-26</td>\n",
              "      <td>confirmed</td>\n",
              "      <td>2118</td>\n",
              "    </tr>\n",
              "  </tbody>\n",
              "</table>\n",
              "</div>"
            ],
            "text/plain": [
              "        date  condition  count\n",
              "0 2020-01-22  confirmed    555\n",
              "1 2020-01-23  confirmed    654\n",
              "2 2020-01-24  confirmed    941\n",
              "3 2020-01-25  confirmed   1434\n",
              "4 2020-01-26  confirmed   2118"
            ]
          },
          "metadata": {
            "tags": []
          },
          "execution_count": 10
        }
      ]
    },
    {
      "cell_type": "code",
      "metadata": {
        "id": "uyMnPhc8UhRg",
        "colab_type": "code",
        "colab": {
          "base_uri": "https://localhost:8080/",
          "height": 554
        },
        "outputId": "e8e041be-3e3b-403c-a390-3a175fe7966b"
      },
      "source": [
        "plt.figure(figsize=(15,8));\n",
        "\n",
        "growth = sns.lineplot(cdr[\"date\"], cdr[\"count\"], hue=cdr[\"condition\"]);\n",
        "\n",
        "growth.set_title(\"Global growth of COVID-19\",fontsize=30);\n",
        "growth.set_xlabel(\"Date\",fontsize=20);\n",
        "growth.set_ylabel(\"Count\",fontsize=20);\n",
        "\n",
        "plt.xticks(rotation=30);\n",
        "plt.legend(fontsize='x-large');"
      ],
      "execution_count": 11,
      "outputs": [
        {
          "output_type": "display_data",
          "data": {
            "image/png": "[encoded data removed]",
            "text/plain": [
              "<Figure size 1080x576 with 1 Axes>"
            ]
          },
          "metadata": {
            "tags": [],
            "needs_background": "light"
          }
        }
      ]
    },
    {
      "cell_type": "markdown",
      "metadata": {
        "id": "ROdHk1iLoygy",
        "colab_type": "text"
      },
      "source": [
        "# Country wise report of COVID-19 cases"
      ]
    },
    {
      "cell_type": "code",
      "metadata": {
        "id": "GWtafXlhU0WA",
        "colab_type": "code",
        "colab": {
          "base_uri": "https://localhost:8080/",
          "height": 195
        },
        "outputId": "c2845d7d-c221-469a-a7bd-f0a0f2d61f0b"
      },
      "source": [
        "countrywise_confirmed = confirmed.groupby(['Country/Region']).sum().reset_index()\n",
        "countrywise_deaths = deaths.groupby(['Country/Region']).sum().reset_index()\n",
        "countrywise_recovered = recovered.groupby(['Country/Region']).sum().reset_index()\n",
        "\n",
        "countrywise_cdr = pd.DataFrame({\n",
        "    'country': countrywise_confirmed['Country/Region'],\n",
        "    'confirmed': countrywise_confirmed.Count,\n",
        "    'deaths': countrywise_deaths.Count,\n",
        "    'recovered': countrywise_recovered.Count,\n",
        "})\n",
        "\n",
        "countrywise_cdr.head()"
      ],
      "execution_count": 12,
      "outputs": [
        {
          "output_type": "execute_result",
          "data": {
            "text/html": [
              "<div>\n",
              "<style scoped>\n",
              "    .dataframe tbody tr th:only-of-type {\n",
              "        vertical-align: middle;\n",
              "    }\n",
              "\n",
              "    .dataframe tbody tr th {\n",
              "        vertical-align: top;\n",
              "    }\n",
              "\n",
              "    .dataframe thead th {\n",
              "        text-align: right;\n",
              "    }\n",
              "</style>\n",
              "<table border=\"1\" class=\"dataframe\">\n",
              "  <thead>\n",
              "    <tr style=\"text-align: right;\">\n",
              "      <th></th>\n",
              "      <th>country</th>\n",
              "      <th>confirmed</th>\n",
              "      <th>deaths</th>\n",
              "      <th>recovered</th>\n",
              "    </tr>\n",
              "  </thead>\n",
              "  <tbody>\n",
              "    <tr>\n",
              "      <th>0</th>\n",
              "      <td>Afghanistan</td>\n",
              "      <td>3745342</td>\n",
              "      <td>114595</td>\n",
              "      <td>2139148</td>\n",
              "    </tr>\n",
              "    <tr>\n",
              "      <th>1</th>\n",
              "      <td>Albania</td>\n",
              "      <td>583139</td>\n",
              "      <td>17360</td>\n",
              "      <td>329905</td>\n",
              "    </tr>\n",
              "    <tr>\n",
              "      <th>2</th>\n",
              "      <td>Algeria</td>\n",
              "      <td>3088876</td>\n",
              "      <td>145505</td>\n",
              "      <td>2089806</td>\n",
              "    </tr>\n",
              "    <tr>\n",
              "      <th>3</th>\n",
              "      <td>Andorra</td>\n",
              "      <td>145841</td>\n",
              "      <td>7952</td>\n",
              "      <td>111054</td>\n",
              "    </tr>\n",
              "    <tr>\n",
              "      <th>4</th>\n",
              "      <td>Angola</td>\n",
              "      <td>125569</td>\n",
              "      <td>5483</td>\n",
              "      <td>45985</td>\n",
              "    </tr>\n",
              "  </tbody>\n",
              "</table>\n",
              "</div>"
            ],
            "text/plain": [
              "       country  confirmed  deaths  recovered\n",
              "0  Afghanistan    3745342  114595    2139148\n",
              "1      Albania     583139   17360     329905\n",
              "2      Algeria    3088876  145505    2089806\n",
              "3      Andorra     145841    7952     111054\n",
              "4       Angola     125569    5483      45985"
            ]
          },
          "metadata": {
            "tags": []
          },
          "execution_count": 12
        }
      ]
    },
    {
      "cell_type": "code",
      "metadata": {
        "id": "qAmBykgsnfUK",
        "colab_type": "code",
        "colab": {}
      },
      "source": [
        "temp1 = countrywise_cdr.sort_values('confirmed', ascending=False).head(20)\n",
        "temp2 = countrywise_cdr.sort_values('deaths', ascending=False).head(20)\n",
        "temp3 = countrywise_cdr.sort_values('recovered', ascending=False).head(20)"
      ],
      "execution_count": 13,
      "outputs": []
    },
    {
      "cell_type": "code",
      "metadata": {
        "id": "iCkhFjO7niGx",
        "colab_type": "code",
        "colab": {
          "base_uri": "https://localhost:8080/",
          "height": 587
        },
        "outputId": "b50b9066-ac28-4f2b-9be1-e2a54dc737ad"
      },
      "source": [
        "fig3 = plt.figure(constrained_layout=True, figsize=(20,8));\n",
        "gs = fig3.add_gridspec(2, 2);\n",
        "\n",
        "f3_ax1 = fig3.add_subplot(gs[0, :]);\n",
        "f3_ax1.set_title('Confirmed cases of COVID-19',fontsize=25);\n",
        "f3_ax1.set_xlabel(\"Number of people recovered\",fontsize=20);\n",
        "sns.barplot(temp1[\"confirmed\"], temp1[\"country\"],ax=f3_ax1);\n",
        "\n",
        "f3_ax2 = fig3.add_subplot(gs[1, :1]);\n",
        "f3_ax2.set_title('Death due to COVID-19',fontsize=25);\n",
        "f3_ax2.set_xlabel(\"Number of people recovered\",fontsize=20);\n",
        "sns.barplot(temp2[\"deaths\"], temp2[\"country\"],ax=f3_ax2);\n",
        "\n",
        "f3_ax2 = fig3.add_subplot(gs[1, 1:]);\n",
        "f3_ax2.set_title('COVID-19 Recovery',fontsize=25);\n",
        "f3_ax2.set_xlabel(\"Number of people recovered\",fontsize=20);\n",
        "sns.barplot(temp3[\"recovered\"], temp3[\"country\"],ax=f3_ax2);\n",
        "\n",
        "\n",
        "f3_ax1.set_ylabel(\"Country\",fontsize=20, position=(0,-0.5));\n",
        "f3_ax2.set_ylabel(\" \",fontsize=0);\n",
        "f3_ax2.set_ylabel(\" \",fontsize=0);"
      ],
      "execution_count": 14,
      "outputs": [
        {
          "output_type": "display_data",
          "data": {
            "image/png": "[encoded data removed]",
            "text/plain": [
              "<Figure size 1440x576 with 3 Axes>"
            ]
          },
          "metadata": {
            "tags": [],
            "needs_background": "light"
          }
        }
      ]
    },
    {
      "cell_type": "code",
      "metadata": {
        "id": "2TjyGSi_nj-8",
        "colab_type": "code",
        "colab": {}
      },
      "source": [
        ""
      ],
      "execution_count": 14,
      "outputs": []
    }
  ]
}