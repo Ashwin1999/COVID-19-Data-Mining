{
  "nbformat": 4,
  "nbformat_minor": 0,
  "metadata": {
    "colab": {
      "name": "COVID-19 Data Mining.ipynb",
      "provenance": [],
      "include_colab_link": true
    },
    "kernelspec": {
      "name": "python3",
      "display_name": "Python 3"
    }
  },
  "cells": [
    {
      "cell_type": "markdown",
      "metadata": {
        "id": "view-in-github",
        "colab_type": "text"
      },
      "source": [
        "<a href=\"https://colab.research.google.com/github/Ashwin1999/COVID-19-Data-Mining/blob/master/COVID_19_Data_Mining.ipynb\" target=\"_parent\"><img src=\"https://colab.research.google.com/assets/colab-badge.svg\" alt=\"Open In Colab\"/></a>"
      ]
    },
    {
      "cell_type": "code",
      "metadata": {
        "id": "G1j5SHrIE2MX",
        "colab_type": "code",
        "colab": {}
      },
      "source": [
        "import numpy as np\n",
        "import pandas as pd"
      ],
      "execution_count": 3,
      "outputs": []
    },
    {
      "cell_type": "markdown",
      "metadata": {
        "id": "Fssb9vYdFjCW",
        "colab_type": "text"
      },
      "source": [
        "import dataset from this link: https://github.com/Ashwin1999/COVID-19-Data-Mining"
      ]
    },
    {
      "cell_type": "code",
      "metadata": {
        "id": "ZB6p0htpFcea",
        "colab_type": "code",
        "colab": {
          "base_uri": "https://localhost:8080/",
          "height": 196
        },
        "outputId": "d7513e26-6271-4c70-ef82-0a85d336eee8"
      },
      "source": [
        "testing_india=pd.read_csv('https://raw.githubusercontent.com/Ashwin1999/COVID-19-Data-Mining/master/COVID-Data(India)/StatewiseTestingDetails.csv')\n",
        "testing_india.head()"
      ],
      "execution_count": 6,
      "outputs": [
        {
          "output_type": "execute_result",
          "data": {
            "text/html": [
              "<div>\n",
              "<style scoped>\n",
              "    .dataframe tbody tr th:only-of-type {\n",
              "        vertical-align: middle;\n",
              "    }\n",
              "\n",
              "    .dataframe tbody tr th {\n",
              "        vertical-align: top;\n",
              "    }\n",
              "\n",
              "    .dataframe thead th {\n",
              "        text-align: right;\n",
              "    }\n",
              "</style>\n",
              "<table border=\"1\" class=\"dataframe\">\n",
              "  <thead>\n",
              "    <tr style=\"text-align: right;\">\n",
              "      <th></th>\n",
              "      <th>Date</th>\n",
              "      <th>State</th>\n",
              "      <th>TotalSamples</th>\n",
              "      <th>Negative</th>\n",
              "      <th>Positive</th>\n",
              "    </tr>\n",
              "  </thead>\n",
              "  <tbody>\n",
              "    <tr>\n",
              "      <th>0</th>\n",
              "      <td>2020-04-17</td>\n",
              "      <td>Andaman and Nicobar Islands</td>\n",
              "      <td>1403.0</td>\n",
              "      <td>1210</td>\n",
              "      <td>12.0</td>\n",
              "    </tr>\n",
              "    <tr>\n",
              "      <th>1</th>\n",
              "      <td>2020-04-24</td>\n",
              "      <td>Andaman and Nicobar Islands</td>\n",
              "      <td>2679.0</td>\n",
              "      <td>NaN</td>\n",
              "      <td>27.0</td>\n",
              "    </tr>\n",
              "    <tr>\n",
              "      <th>2</th>\n",
              "      <td>2020-04-27</td>\n",
              "      <td>Andaman and Nicobar Islands</td>\n",
              "      <td>2848.0</td>\n",
              "      <td>NaN</td>\n",
              "      <td>33.0</td>\n",
              "    </tr>\n",
              "    <tr>\n",
              "      <th>3</th>\n",
              "      <td>2020-05-01</td>\n",
              "      <td>Andaman and Nicobar Islands</td>\n",
              "      <td>3754.0</td>\n",
              "      <td>NaN</td>\n",
              "      <td>33.0</td>\n",
              "    </tr>\n",
              "    <tr>\n",
              "      <th>4</th>\n",
              "      <td>2020-05-16</td>\n",
              "      <td>Andaman and Nicobar Islands</td>\n",
              "      <td>6677.0</td>\n",
              "      <td>NaN</td>\n",
              "      <td>33.0</td>\n",
              "    </tr>\n",
              "  </tbody>\n",
              "</table>\n",
              "</div>"
            ],
            "text/plain": [
              "         Date                        State  TotalSamples Negative  Positive\n",
              "0  2020-04-17  Andaman and Nicobar Islands        1403.0     1210      12.0\n",
              "1  2020-04-24  Andaman and Nicobar Islands        2679.0      NaN      27.0\n",
              "2  2020-04-27  Andaman and Nicobar Islands        2848.0      NaN      33.0\n",
              "3  2020-05-01  Andaman and Nicobar Islands        3754.0      NaN      33.0\n",
              "4  2020-05-16  Andaman and Nicobar Islands        6677.0      NaN      33.0"
            ]
          },
          "metadata": {
            "tags": []
          },
          "execution_count": 6
        }
      ]
    },
    {
      "cell_type": "code",
      "metadata": {
        "id": "blOWS2b7i75l",
        "colab_type": "code",
        "colab": {}
      },
      "source": [
        ""
      ],
      "execution_count": null,
      "outputs": []
    }
  ]
}